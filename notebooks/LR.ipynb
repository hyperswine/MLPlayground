{
 "metadata": {
  "language_info": {
   "codemirror_mode": {
    "name": "ipython",
    "version": 3
   },
   "file_extension": ".py",
   "mimetype": "text/x-python",
   "name": "python",
   "nbconvert_exporter": "python",
   "pygments_lexer": "ipython3",
   "version": "3.8.3-final"
  },
  "orig_nbformat": 2,
  "kernelspec": {
   "name": "python3",
   "language": "python",
   "display_name": "Python 3"
  }
 },
 "nbformat": 4,
 "nbformat_minor": 2,
 "cells": [
  {
   "cell_type": "markdown",
   "metadata": {},
   "source": [
    "## This notebook is about learning a Linear Regression model.\n",
    "\n",
    "### Algorithms from sk-learn\n",
    "Before writing up our own algorithms, it made sense to use the pre-existing algorithms from libraries such as sklearn.\n",
    "This provides us a baseline for the performance of LR on our dataset.\n",
    "\n",
    "### Preliminary Considerations\n",
    "There were many considerations to be made. The first regarding hyper-parameters and high-dimensional data.\n",
    "It was important to not overthink the first few steps so considerations with bias-variance and tweaking\n",
    "were considered later.\n"
   ]
  },
  {
   "cell_type": "code",
   "metadata": {
    "pycharm": {
     "name": "#%%\n"
    }
   },
   "source": [
    "import pandas as pd"
   ],
   "execution_count": 1,
   "outputs": []
  },
  {
   "cell_type": "code",
   "execution_count": 2,
   "outputs": [
    {
     "output_type": "stream",
     "name": "stdout",
     "text": "<class 'pandas.core.frame.DataFrame'>\nInt64Index: 10679 entries, 1 to 10679\nData columns (total 86 columns):\n #   Column                      Non-Null Count  Dtype \n---  ------                      --------------  ----- \n 0   oem                         10679 non-null  object\n 1   model                       10679 non-null  object\n 2   network_technology          10679 non-null  object\n 3   network_2g_bands            10355 non-null  object\n 4   network_gprs                9714 non-null   object\n 5   network_edge                9720 non-null   object\n 6   launch_announced            10679 non-null  object\n 7   launch_status               10679 non-null  object\n 8   body_dimensions             10679 non-null  object\n 9   body_weight                 10587 non-null  object\n 10  body_sim                    10678 non-null  object\n 11  display_type                10679 non-null  object\n 12  display_size                9287 non-null   object\n 13  display_resolution          10630 non-null  object\n 14  display                     3263 non-null   object\n 15  memory_card_slot            10679 non-null  object\n 16  memory_phonebook            3880 non-null   object\n 17  memory_call_records         3794 non-null   object\n 18  sound_loudspeaker           10679 non-null  object\n 19  sound_alert_types           2672 non-null   object\n 20  sound_3.5mm_jack            10609 non-null  object\n 21  comms_wlan                  10679 non-null  object\n 22  comms_bluetooth             10662 non-null  object\n 23  comms_gps                   10646 non-null  object\n 24  comms_radio                 10550 non-null  object\n 25  comms_usb                   9636 non-null   object\n 26  features_sensors            10679 non-null  object\n 27  features_messaging          3955 non-null   object\n 28  features_browser            3875 non-null   object\n 29  features_clock              557 non-null    object\n 30  features_alarm              557 non-null    object\n 31  features_games              3883 non-null   object\n 32  features_java               3901 non-null   object\n 33  features                    5930 non-null   object\n 34  misc_colors                 10679 non-null  object\n 35  network_3g_bands            6622 non-null   object\n 36  network_speed               6669 non-null   object\n 37  platform_os                 6722 non-null   object\n 38  platform_chipset            5421 non-null   object\n 39  platform_cpu                6650 non-null   object\n 40  platform_gpu                5294 non-null   object\n 41  memory_internal             8801 non-null   object\n 42  main_camera_single          8251 non-null   object\n 43  main_camera_video           9250 non-null   object\n 44  misc_price                  6537 non-null   object\n 45  main_camera_features        5829 non-null   object\n 46  body                        1443 non-null   object\n 47  network_4g_bands            3232 non-null   object\n 48  body_build                  1227 non-null   object\n 49  display_protection          2051 non-null   object\n 50  memory                      1233 non-null   object\n 51  main_camera_dual            520 non-null    object\n 52  selfie_camera_dual          151 non-null    object\n 53  selfie_camera_features      1365 non-null   object\n 54  selfie_camera_video         1838 non-null   object\n 55  comms_nfc                   1427 non-null   object\n 56  battery_charging            1357 non-null   object\n 57  misc_models                 1823 non-null   object\n 58  tests_performance           579 non-null    object\n 59  tests_camera                876 non-null    object\n 60  tests_loudspeaker           1019 non-null   object\n 61  tests_audio_quality         889 non-null    object\n 62  tests_battery_life          712 non-null    object\n 63  tests_display               729 non-null    object\n 64  selfie_camera_single        5657 non-null   object\n 65  comms_infrared_port         1173 non-null   object\n 66  network_5g_bands            166 non-null    object\n 67  main_camera_quad            234 non-null    object\n 68  main_camera_triple          311 non-null    object\n 69  sound                       2628 non-null   object\n 70  misc_sar_eu                 2520 non-null   object\n 71  main_camera_five            6 non-null      object\n 72  features_languages          303 non-null    object\n 73  body_keyboard               709 non-null    object\n 74  misc_sar                    2180 non-null   object\n 75  battery                     10562 non-null  object\n 76  main_camera_dual_or_triple  3 non-null      object\n 77  battery_music_play          768 non-null    object\n 78  selfie_camera_triple        4 non-null      object\n 79  main_camera_v1              7 non-null      object\n 80  selfie_camera               3521 non-null   object\n 81  camera                      1346 non-null   object\n 82  main_camera                 1 non-null      object\n 83  network                     2520 non-null   object\n 84  battery_talk_time           7278 non-null   object\n 85  battery_stand.by            6985 non-null   object\ndtypes: object(86)\nmemory usage: 7.1+ MB\n"
    },
    {
     "output_type": "execute_result",
     "data": {
      "text/plain": "                   oem                model              network_technology  \\\nkey_index                                                                     \n1              Benefon                 Vega                             GSM   \n2          Garmin-Asus         nuvifone M10                      GSM / HSPA   \n3             Gigabyte  GSmart G1305 Boston                      GSM / HSPA   \n4             Gigabyte               GSmart                      GSM / HSPA   \n5               Google           Pixel 4 XL  GSM / CDMA / HSPA / EVDO / LTE   \n\n                      network_2g_bands network_gprs network_edge  \\\nkey_index                                                          \n1                              GSM 900           No           No   \n2                GSM 900 / 1800 / 1900          NaN          NaN   \n3          GSM 850 / 900 / 1800 / 1900          NaN          NaN   \n4                       GSM 900 / 1800          NaN          NaN   \n5          GSM 850 / 900 / 1800 / 1900          NaN          NaN   \n\n                              launch_announced  \\\nkey_index                                        \n1                                         1999   \n2          2010, January. Released 2010, March   \n3            2010, April. Released 2010, April   \n4                 Not officially announced yet   \n5                             2019, October 15   \n\n                                  launch_status  \\\nkey_index                                         \n1                                  Discontinued   \n2                                  Discontinued   \n3                                  Discontinued   \n4                                     Cancelled   \n5          Available. Released 2019, October 22   \n\n                                         body_dimensions      body_weight  \\\nkey_index                                                                   \n1               145 x 56 x 23 mm (5.71 x 2.20 x 0.91 in)  190 g (6.70 oz)   \n2                                                      -                -   \n3           116 x 56.8 x 12.4 mm (4.57 x 2.24 x 0.49 in)  118 g (4.16 oz)   \n4             103 x 54 x 13.4 mm (4.06 x 2.13 x 0.53 in)                -   \n5          160.4 x 75.1 x 8.2 mm (6.31 x 2.96 x 0.32 in)  193 g (6.81 oz)   \n\n           ... main_camera_dual_or_triple battery_music_play  \\\nkey_index  ...                                                 \n1          ...                        NaN                NaN   \n2          ...                        NaN                NaN   \n3          ...                        NaN                NaN   \n4          ...                        NaN                NaN   \n5          ...                        NaN                NaN   \n\n          selfie_camera_triple main_camera_v1 selfie_camera camera  \\\nkey_index                                                            \n1                          NaN            NaN           NaN     No   \n2                          NaN            NaN            V2    NaN   \n3                          NaN            NaN            V2    NaN   \n4                          NaN            NaN            V2    NaN   \n5                          NaN            NaN           NaN    NaN   \n\n          main_camera                             network battery_talk_time  \\\nkey_index                                                                     \n1                 NaN                                 NaN          4 - 10 h   \n2                 NaN  GSM 850 / 1800 / 1900 - US version         Up to 8 h   \n3                 NaN                                 NaN  Up to 7 h 10 min   \n4                 NaN                                 NaN               NaN   \n5                 NaN                     CDMA 800 / 1900               NaN   \n\n                              battery_stand.by  \nkey_index                                       \n1                                   3 - 6 days  \n2          Up to 600 h (2G) / Up to 600 h (3G)  \n3                                  Up to 410 h  \n4                                          NaN  \n5                                          NaN  \n\n[5 rows x 86 columns]",
      "text/html": "<div>\n<style scoped>\n    .dataframe tbody tr th:only-of-type {\n        vertical-align: middle;\n    }\n\n    .dataframe tbody tr th {\n        vertical-align: top;\n    }\n\n    .dataframe thead th {\n        text-align: right;\n    }\n</style>\n<table border=\"1\" class=\"dataframe\">\n  <thead>\n    <tr style=\"text-align: right;\">\n      <th></th>\n      <th>oem</th>\n      <th>model</th>\n      <th>network_technology</th>\n      <th>network_2g_bands</th>\n      <th>network_gprs</th>\n      <th>network_edge</th>\n      <th>launch_announced</th>\n      <th>launch_status</th>\n      <th>body_dimensions</th>\n      <th>body_weight</th>\n      <th>...</th>\n      <th>main_camera_dual_or_triple</th>\n      <th>battery_music_play</th>\n      <th>selfie_camera_triple</th>\n      <th>main_camera_v1</th>\n      <th>selfie_camera</th>\n      <th>camera</th>\n      <th>main_camera</th>\n      <th>network</th>\n      <th>battery_talk_time</th>\n      <th>battery_stand.by</th>\n    </tr>\n    <tr>\n      <th>key_index</th>\n      <th></th>\n      <th></th>\n      <th></th>\n      <th></th>\n      <th></th>\n      <th></th>\n      <th></th>\n      <th></th>\n      <th></th>\n      <th></th>\n      <th></th>\n      <th></th>\n      <th></th>\n      <th></th>\n      <th></th>\n      <th></th>\n      <th></th>\n      <th></th>\n      <th></th>\n      <th></th>\n      <th></th>\n    </tr>\n  </thead>\n  <tbody>\n    <tr>\n      <th>1</th>\n      <td>Benefon</td>\n      <td>Vega</td>\n      <td>GSM</td>\n      <td>GSM 900</td>\n      <td>No</td>\n      <td>No</td>\n      <td>1999</td>\n      <td>Discontinued</td>\n      <td>145 x 56 x 23 mm (5.71 x 2.20 x 0.91 in)</td>\n      <td>190 g (6.70 oz)</td>\n      <td>...</td>\n      <td>NaN</td>\n      <td>NaN</td>\n      <td>NaN</td>\n      <td>NaN</td>\n      <td>NaN</td>\n      <td>No</td>\n      <td>NaN</td>\n      <td>NaN</td>\n      <td>4 - 10 h</td>\n      <td>3 - 6 days</td>\n    </tr>\n    <tr>\n      <th>2</th>\n      <td>Garmin-Asus</td>\n      <td>nuvifone M10</td>\n      <td>GSM / HSPA</td>\n      <td>GSM 900 / 1800 / 1900</td>\n      <td>NaN</td>\n      <td>NaN</td>\n      <td>2010, January. Released 2010, March</td>\n      <td>Discontinued</td>\n      <td>-</td>\n      <td>-</td>\n      <td>...</td>\n      <td>NaN</td>\n      <td>NaN</td>\n      <td>NaN</td>\n      <td>NaN</td>\n      <td>V2</td>\n      <td>NaN</td>\n      <td>NaN</td>\n      <td>GSM 850 / 1800 / 1900 - US version</td>\n      <td>Up to 8 h</td>\n      <td>Up to 600 h (2G) / Up to 600 h (3G)</td>\n    </tr>\n    <tr>\n      <th>3</th>\n      <td>Gigabyte</td>\n      <td>GSmart G1305 Boston</td>\n      <td>GSM / HSPA</td>\n      <td>GSM 850 / 900 / 1800 / 1900</td>\n      <td>NaN</td>\n      <td>NaN</td>\n      <td>2010, April. Released 2010, April</td>\n      <td>Discontinued</td>\n      <td>116 x 56.8 x 12.4 mm (4.57 x 2.24 x 0.49 in)</td>\n      <td>118 g (4.16 oz)</td>\n      <td>...</td>\n      <td>NaN</td>\n      <td>NaN</td>\n      <td>NaN</td>\n      <td>NaN</td>\n      <td>V2</td>\n      <td>NaN</td>\n      <td>NaN</td>\n      <td>NaN</td>\n      <td>Up to 7 h 10 min</td>\n      <td>Up to 410 h</td>\n    </tr>\n    <tr>\n      <th>4</th>\n      <td>Gigabyte</td>\n      <td>GSmart</td>\n      <td>GSM / HSPA</td>\n      <td>GSM 900 / 1800</td>\n      <td>NaN</td>\n      <td>NaN</td>\n      <td>Not officially announced yet</td>\n      <td>Cancelled</td>\n      <td>103 x 54 x 13.4 mm (4.06 x 2.13 x 0.53 in)</td>\n      <td>-</td>\n      <td>...</td>\n      <td>NaN</td>\n      <td>NaN</td>\n      <td>NaN</td>\n      <td>NaN</td>\n      <td>V2</td>\n      <td>NaN</td>\n      <td>NaN</td>\n      <td>NaN</td>\n      <td>NaN</td>\n      <td>NaN</td>\n    </tr>\n    <tr>\n      <th>5</th>\n      <td>Google</td>\n      <td>Pixel 4 XL</td>\n      <td>GSM / CDMA / HSPA / EVDO / LTE</td>\n      <td>GSM 850 / 900 / 1800 / 1900</td>\n      <td>NaN</td>\n      <td>NaN</td>\n      <td>2019, October 15</td>\n      <td>Available. Released 2019, October 22</td>\n      <td>160.4 x 75.1 x 8.2 mm (6.31 x 2.96 x 0.32 in)</td>\n      <td>193 g (6.81 oz)</td>\n      <td>...</td>\n      <td>NaN</td>\n      <td>NaN</td>\n      <td>NaN</td>\n      <td>NaN</td>\n      <td>NaN</td>\n      <td>NaN</td>\n      <td>NaN</td>\n      <td>CDMA 800 / 1900</td>\n      <td>NaN</td>\n      <td>NaN</td>\n    </tr>\n  </tbody>\n</table>\n<p>5 rows × 86 columns</p>\n</div>"
     },
     "metadata": {},
     "execution_count": 2
    }
   ],
   "source": [
    "# Open Dataset\n",
    "data = pd.read_csv('dataset/GSMArena_dataset_2020.csv', index_col=0)\n",
    "\n",
    "# Some Insight\n",
    "data.info()\n",
    "data.head()\n"
   ],
   "metadata": {
    "collapsed": false,
    "pycharm": {
     "name": "#%%\n"
    },
    "tags": []
   }
  },
  {
   "cell_type": "markdown",
   "source": [
    "### Issues so far\n",
    "Before attempting to learn a regression model on the data, it is clear that there are some considerations to\n",
    "be made.\n",
    "\n",
    "Firstly, some rows have null values (N/A) and some features have categorical values.\n",
    "Here, we have decided to drop the categorical features, and subsequently drop all the null valued rows.\n"
   ],
   "metadata": {
    "collapsed": false,
    "pycharm": {
     "name": "#%% md\n"
    }
   }
  },
  {
   "cell_type": "code",
   "execution_count": 3,
   "outputs": [
    {
     "output_type": "stream",
     "name": "stdout",
     "text": "key_index\n1        None\n2        None\n3        46.3\n4        43.7\n5        81.3\n         ... \n10675    36.1\n10676    26.1\n10677    26.1\n10678    26.1\n10679    None\nName: scn_bdy_ratio, Length: 10679, dtype: object key_index\n1        None\n2         3.5\n3         3.2\n4         2.8\n5         6.3\n         ... \n10675     2.4\n10676     2.0\n10677     2.0\n10678     2.0\n10679    None\nName: screen_size, Length: 10679, dtype: object\n"
    }
   ],
   "source": [
    "# Load up data_cleaning script\n",
    "# noinspection PyUnresolvedReferences\n",
    "from auxiliary.data_clean2 import clean_data\n",
    "\n",
    "# Remove features that don't seem necessary at this stage, i.e. take all the other features.\n",
    "# NOTE: getting rid of 'main_camera_dual', 'comms_nfc', 'battery_charging', 'selfie_camera_video' as they seem to be conflicting/resulting in many null cols.\n",
    "data_features = data[[\"oem\", \"launch_announced\", \"launch_status\", \"body_dimensions\", \"display_size\", \"comms_wlan\", \"comms_usb\",\n",
    "                \"features_sensors\", \"platform_os\", \"platform_cpu\", \"platform_gpu\", \"memory_internal\",\n",
    "                \"main_camera_single\", \"main_camera_video\", \"misc_price\",\n",
    "                \"selfie_camera_video\",\n",
    "                \"selfie_camera_single\", \"battery\"]]\n",
    "\n",
    "# Clean up the data into a trainable form.\n",
    "df = clean_data(data_features)"
   ],
   "metadata": {
    "collapsed": false,
    "pycharm": {
     "name": "#%%\n"
    },
    "tags": []
   }
  },
  {
   "cell_type": "markdown",
   "source": [
    "### Preliminary plots\n",
    "\n",
    "Consider the correlation between certain features (numerical & categorical) and the classes."
   ],
   "metadata": {
    "collapsed": false,
    "pycharm": {
     "name": "#%% md\n"
    }
   }
  },
  {
   "cell_type": "code",
   "execution_count": 11,
   "outputs": [
    {
     "output_type": "error",
     "ename": "ModuleNotFoundError",
     "evalue": "No module named 'matplotlib'",
     "traceback": [
      "\u001b[1;31m---------------------------------------------------------------------------\u001b[0m",
      "\u001b[1;31mModuleNotFoundError\u001b[0m                       Traceback (most recent call last)",
      "\u001b[1;32m<ipython-input-11-dc3ad0b3b629>\u001b[0m in \u001b[0;36m<module>\u001b[1;34m\u001b[0m\n\u001b[1;32m----> 1\u001b[1;33m \u001b[1;32mimport\u001b[0m \u001b[0mmatplotlib\u001b[0m\u001b[1;33m.\u001b[0m\u001b[0mpyplot\u001b[0m \u001b[1;32mas\u001b[0m \u001b[0mplt\u001b[0m\u001b[1;33m\u001b[0m\u001b[1;33m\u001b[0m\u001b[0m\n\u001b[0m\u001b[0;32m      2\u001b[0m \u001b[1;33m\u001b[0m\u001b[0m\n\u001b[0;32m      3\u001b[0m \u001b[1;31m# Correlation & heat map; For visuals & feature selection/validation\u001b[0m\u001b[1;33m\u001b[0m\u001b[1;33m\u001b[0m\u001b[1;33m\u001b[0m\u001b[0m\n\u001b[0;32m      4\u001b[0m \u001b[0mplt\u001b[0m\u001b[1;33m.\u001b[0m\u001b[0mfigure\u001b[0m\u001b[1;33m(\u001b[0m\u001b[0mfigsize\u001b[0m\u001b[1;33m=\u001b[0m\u001b[1;33m(\u001b[0m\u001b[1;36m20\u001b[0m\u001b[1;33m,\u001b[0m\u001b[1;36m20\u001b[0m\u001b[1;33m)\u001b[0m\u001b[1;33m)\u001b[0m\u001b[1;33m\u001b[0m\u001b[1;33m\u001b[0m\u001b[0m\n\u001b[0;32m      5\u001b[0m \u001b[0msns\u001b[0m\u001b[1;33m.\u001b[0m\u001b[0mheatmap\u001b[0m\u001b[1;33m(\u001b[0m\u001b[0mdf\u001b[0m\u001b[1;33m.\u001b[0m\u001b[0mcorr\u001b[0m\u001b[1;33m(\u001b[0m\u001b[1;33m)\u001b[0m\u001b[1;33m)\u001b[0m\u001b[1;33m\u001b[0m\u001b[1;33m\u001b[0m\u001b[0m\n",
      "\u001b[1;31mModuleNotFoundError\u001b[0m: No module named 'matplotlib'"
     ]
    }
   ],
   "source": [
    "import matplotlib.pyplot as plt\n",
    "\n",
    "# Correlation & heat map; For visuals & feature selection/validation\n",
    "plt.figure(figsize=(20,20))\n",
    "sns.heatmap(df.corr())"
   ],
   "metadata": {
    "collapsed": false,
    "pycharm": {
     "name": "#%%\n"
    }
   }
  },
  {
   "cell_type": "markdown",
   "source": [
    "### Now that the data is the right format, it is now possible to train a simple LR model.\n",
    "\n",
    "We start off by investigating the performance of sk-learn's batch-learned LR models."
   ],
   "metadata": {
    "collapsed": false,
    "pycharm": {
     "name": "#%% md\n"
    }
   }
  },
  {
   "cell_type": "code",
   "execution_count": 5,
   "outputs": [],
   "source": [
    "# Now its time to split the data\n",
    "from sklearn.model_selection import train_test_split\n",
    "\n",
    "y = df[\"misc_price\"]\n",
    "X = df.drop([\"misc_price\"], axis=1)\n",
    "\n",
    "# Train & test split. Seed = 120 for reproducing same shuffling of indices.\n",
    "# Note 70-30 split for the preliminary split.\n",
    "X_train, X_test, y_train, y_test = train_test_split(X, y, random_state=120, test_size=.3)"
   ],
   "metadata": {
    "collapsed": false,
    "pycharm": {
     "name": "#%%\n"
    }
   }
  },
  {
   "cell_type": "code",
   "execution_count": 6,
   "outputs": [
    {
     "output_type": "stream",
     "name": "stdout",
     "text": "Coefficients: \n [ 8.84397694e-03 -1.57979501e+00 -3.22038823e+01  1.12573398e-03\n  4.00479415e+00  1.49498206e+00  1.16888168e-01 -5.14410536e-02\n -3.48266019e-02 -4.52808824e+00 -2.63605626e-02  2.30170340e-01\n -1.24964800e+02  9.77428665e+00 -3.73863674e-01  5.58479575e-02]\nMean squared error: 550893.24\nCoefficient of determination: 0.06\n"
    }
   ],
   "source": [
    "from sklearn.linear_model import LinearRegression\n",
    "from sklearn.metrics import mean_squared_error, r2_score\n",
    "\n",
    "lr_model = LinearRegression()\n",
    "\n",
    "# Batch-train LR\n",
    "lr_model.fit(X_train, y_train)\n",
    "\n",
    "# Test the model & retreive predictions\n",
    "y_pred = lr_model.predict(X_test)\n",
    "\n",
    "# The coefficients\n",
    "print('Coefficients: \\n', lr_model.coef_)\n",
    "\n",
    "# The mean squared error\n",
    "print('Mean squared error: %.2f'\n",
    "      % mean_squared_error(y_test, y_pred))\n",
    "\n",
    "# The coefficient of determination: 1 is perfect prediction\n",
    "print('Coefficient of determination: %.2f'\n",
    "      % r2_score(y_test, y_pred))\n",
    "\n",
    "# plt.scatter(X_test, y_test, color='black')\n",
    "# plt.plot(X_test, y_pred, color='blue', linewidth=3)\n",
    "\n",
    "# plt.xticks()\n",
    "# plt.yticks()\n",
    "\n",
    "# plt.show()"
   ],
   "metadata": {
    "collapsed": false,
    "pycharm": {
     "name": "#%%\n"
    },
    "tags": []
   }
  },
  {
   "cell_type": "markdown",
   "source": [
    "### Performance of simple LR\n",
    "As can be seen, the preliminary performance is very poor. This raises some considerations with whether the data is too noisy or in the wrong form. It could also mean the function is significantly non-linear and our LR model would be a bad choice.\n",
    "\n",
    "### Plot of data & LR model\n",
    "We now try to visualize high-dimensional data & try specific combination-correlations, to gain some idea of the nature of the fit."
   ],
   "metadata": {
    "collapsed": false,
    "pycharm": {
     "name": "#%% md\n"
    }
   }
  },
  {
   "cell_type": "code",
   "execution_count": 7,
   "outputs": [],
   "source": [
    "# plt\n",
    "\n",
    "# sns\n"
   ],
   "metadata": {
    "collapsed": false,
    "pycharm": {
     "name": "#%%\n"
    }
   }
  },
  {
   "cell_type": "markdown",
   "source": [
    "### Investigating Linear Regression in more detail\n",
    "Now we investigate LR in more depth by learning our own models and tweaking parameters, normalizing and comparing differences."
   ],
   "metadata": {
    "collapsed": false,
    "pycharm": {
     "name": "#%% md\n"
    }
   }
  },
  {
   "cell_type": "code",
   "execution_count": 8,
   "outputs": [],
   "source": [
    "# Set up the function defs & ML algorithms\n"
   ],
   "metadata": {
    "collapsed": false,
    "pycharm": {
     "name": "#%%\n"
    }
   }
  },
  {
   "cell_type": "code",
   "execution_count": 9,
   "outputs": [],
   "source": [
    "# Train our custom LR model\n",
    "\n",
    "\n",
    "# Test variance -> validation set accuracy\n",
    "\n",
    "\n",
    "# Perform 4-fold cross-validation on the datasets\n",
    "\n",
    "\n",
    "# Compile results into table"
   ],
   "metadata": {
    "collapsed": false,
    "pycharm": {
     "name": "#%%\n"
    }
   }
  },
  {
   "cell_type": "markdown",
   "source": [
    "### Plots & Analysis\n",
    "\n",
    "So far, our LR model has been trained and tested via cross-validation. We now visualize the scores and analyze the\n",
    "performance below."
   ],
   "metadata": {
    "collapsed": false,
    "pycharm": {
     "name": "#%% md\n"
    }
   }
  },
  {
   "cell_type": "code",
   "execution_count": 10,
   "outputs": [],
   "source": [
    "# matplotlib\n",
    "\n",
    "\n",
    "# sns\n"
   ],
   "metadata": {
    "collapsed": false,
    "pycharm": {
     "name": "#%%\n"
    }
   }
  }
 ]
}