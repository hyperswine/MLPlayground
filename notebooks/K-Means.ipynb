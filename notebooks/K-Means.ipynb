{
 "cells": [
  {
   "cell_type": "markdown",
   "metadata": {
    "collapsed": true,
    "pycharm": {
     "name": "#%% md\n"
    }
   },
   "source": [
    "## K-Means Clustering\n",
    "\n",
    "The idea of this notebook is to learn an unsupervised model capable of separating groups of mobile phones\n",
    "into several categories, e.g. k=5 categories. We then compare these clusters with the hypothesized models\n",
    "from other supervised learners, e.g. DT's and Multiple-Regression models.\n",
    "\n",
    "We can also test whether it splits the clusters in a way that resembles the pricing categories directly, i.e.\n",
    "simply putting in the test examples and seeing what cluster the model outputs.\n",
    "\n",
    "Two different datasets will be used, the one from GSMArena and another one simply based on technical specifications.\n",
    "To test the tech-spec only dataset, we'll put the inputs into an ensemble model and predict its price, then\n",
    "input it into the k-means cluster and inspect which cluster it ended up in."
   ]
  },
  {
   "cell_type": "code",
   "execution_count": 4,
   "outputs": [
    {
     "output_type": "stream",
     "name": "stdout",
     "text": "key_index\n1        None\n2        None\n3        46.3\n4        43.7\n5        81.3\n         ... \n10675    36.1\n10676    26.1\n10677    26.1\n10678    26.1\n10679    None\nName: scn_bdy_ratio, Length: 10679, dtype: object key_index\n1        None\n2         3.5\n3         3.2\n4         2.8\n5         6.3\n         ... \n10675     2.4\n10676     2.0\n10677     2.0\n10678     2.0\n10679    None\nName: screen_size, Length: 10679, dtype: object\n"
    }
   ],
   "source": [
    "from auxiliary.data_clean2 import clean_data\n",
    "import pandas as pd\n",
    "from sklearn.model_selection import train_test_split\n",
    "\n",
    "# Load up dataset 1: gsmarena\n",
    "data = pd.read_csv('dataset/GSMArena_dataset_2020.csv', index_col=0)\n",
    "\n",
    "data_features = data[[\"oem\", \"launch_announced\", \"launch_status\", \"body_dimensions\", \"display_size\", \"comms_wlan\", \"comms_usb\",\n",
    "                \"features_sensors\", \"platform_os\", \"platform_cpu\", \"platform_gpu\", \"memory_internal\",\n",
    "                \"main_camera_single\", \"main_camera_video\", \"misc_price\",\n",
    "                \"selfie_camera_video\",\n",
    "                \"selfie_camera_single\", \"battery\"]]\n",
    "\n",
    "# Clean up the data into a trainable form.\n",
    "df = clean_data(data_features)\n",
    "\n",
    "# load utilities\n",
    "from sklearn.model_selection import train_test_split\n",
    "\n",
    "y = df[\"misc_price\"]\n",
    "X = df.drop([\"misc_price\"], axis=1)\n",
    "\n",
    "# Split data into train, test\n",
    "X_train, X_test, y_train, y_test = train_test_split(X, y, test_size=.4, random_state=0)\n"
   ],
   "metadata": {
    "collapsed": false,
    "pycharm": {
     "name": "#%%\n"
    },
    "tags": []
   }
  },
  {
   "cell_type": "markdown",
   "source": [
    "#### SkLearn's K-Means Model\n",
    "\n",
    "As always, the idea is to use algorithms from sklearn or another library as a baseline before writing our own\n",
    "algorithms in a more fine-tuned and streamlined manner."
   ],
   "metadata": {
    "collapsed": false,
    "pycharm": {
     "name": "#%% md\n"
    }
   }
  },
  {
   "cell_type": "code",
   "execution_count": 9,
   "outputs": [
    {
     "output_type": "stream",
     "name": "stdout",
     "text": "[[ 3.94304100e+03  6.67682709e+01  2.01739750e+03  9.72447411e+04\n   4.42245989e+00  2.36541889e+00  3.52361856e+00  1.55155793e+03\n   9.06096257e+02  1.28994652e+01  3.50743137e+03  2.05910695e+03\n   5.80825314e+00  7.70231729e+01  5.13368984e+00  4.83048485e+03]\n [ 5.87400000e+03  5.95000000e+01  2.01450000e+03  1.67681506e+06\n   1.00000000e+00  1.00000000e+00  1.49999994e+00  9.00000000e+02\n   0.00000000e+00  0.00000000e+00  2.87150000e+03  1.59000000e+03\n   1.78499994e+01  7.22999992e+01  0.00000000e+00  2.00000000e+03]\n [ 7.40350000e+03  7.21250000e+01  2.01262500e+03  3.82933449e+05\n   2.12500000e+00  1.62500000e+00  3.75000015e+00  7.20000000e+02\n   3.60000000e+02  1.34999999e+00  5.72887500e+03  1.41250000e+03\n   1.01125003e+01  6.68124986e+01  0.00000000e+00  1.78200000e+03]\n [ 3.82634375e+03  3.94375000e+01  2.01578125e+03  2.11341216e+04\n   2.46875000e+00  1.78125000e+00 -4.44089210e-16 -2.27373675e-13\n  -2.27373675e-13  0.00000000e+00  3.28843750e+02  8.95625000e+02\n   1.47968749e+00  4.71093745e+01  0.00000000e+00  6.91875000e+02]\n [ 7.71616667e+03  7.72222222e+01  2.01244444e+03  2.30253060e+05\n   2.72222222e+00  1.38888889e+00  5.81944448e+00  7.86666667e+02\n   1.00000000e+02  1.24999998e+00  3.85361111e+03  1.27222222e+03\n   6.90555561e+00  6.38111108e+01  7.11111111e+00  2.26711111e+03]]\n"
    },
    {
     "output_type": "error",
     "ename": "ValueError",
     "evalue": "Classification metrics can't handle a mix of continuous and multiclass targets",
     "traceback": [
      "\u001B[1;31m---------------------------------------------------------------------------\u001B[0m",
      "\u001B[1;31mValueError\u001B[0m                                Traceback (most recent call last)",
      "\u001B[1;32m<ipython-input-9-4427bc6b5fbc>\u001B[0m in \u001B[0;36m<module>\u001B[1;34m\u001B[0m\n\u001B[0;32m      9\u001B[0m \u001B[1;33m\u001B[0m\u001B[0m\n\u001B[0;32m     10\u001B[0m \u001B[0my_pred\u001B[0m \u001B[1;33m=\u001B[0m \u001B[0mclf\u001B[0m\u001B[1;33m.\u001B[0m\u001B[0mpredict\u001B[0m\u001B[1;33m(\u001B[0m\u001B[0mX_test\u001B[0m\u001B[1;33m)\u001B[0m\u001B[1;33m\u001B[0m\u001B[1;33m\u001B[0m\u001B[0m\n\u001B[1;32m---> 11\u001B[1;33m \u001B[0mprint\u001B[0m\u001B[1;33m(\u001B[0m\u001B[0maccuracy_score\u001B[0m\u001B[1;33m(\u001B[0m\u001B[0my_test\u001B[0m\u001B[1;33m,\u001B[0m \u001B[0my_pred\u001B[0m\u001B[1;33m)\u001B[0m\u001B[1;33m)\u001B[0m\u001B[1;33m\u001B[0m\u001B[1;33m\u001B[0m\u001B[0m\n\u001B[0m\u001B[0;32m     12\u001B[0m \u001B[1;33m\u001B[0m\u001B[0m\n\u001B[0;32m     13\u001B[0m \u001B[1;31m# # Utility for k-fold cross validation\u001B[0m\u001B[1;33m\u001B[0m\u001B[1;33m\u001B[0m\u001B[1;33m\u001B[0m\u001B[0m\n",
      "\u001B[1;32m~\\anaconda3\\envs\\Project-Report\\lib\\site-packages\\sklearn\\utils\\validation.py\u001B[0m in \u001B[0;36minner_f\u001B[1;34m(*args, **kwargs)\u001B[0m\n\u001B[0;32m     71\u001B[0m                           FutureWarning)\n\u001B[0;32m     72\u001B[0m         \u001B[0mkwargs\u001B[0m\u001B[1;33m.\u001B[0m\u001B[0mupdate\u001B[0m\u001B[1;33m(\u001B[0m\u001B[1;33m{\u001B[0m\u001B[0mk\u001B[0m\u001B[1;33m:\u001B[0m \u001B[0marg\u001B[0m \u001B[1;32mfor\u001B[0m \u001B[0mk\u001B[0m\u001B[1;33m,\u001B[0m \u001B[0marg\u001B[0m \u001B[1;32min\u001B[0m \u001B[0mzip\u001B[0m\u001B[1;33m(\u001B[0m\u001B[0msig\u001B[0m\u001B[1;33m.\u001B[0m\u001B[0mparameters\u001B[0m\u001B[1;33m,\u001B[0m \u001B[0margs\u001B[0m\u001B[1;33m)\u001B[0m\u001B[1;33m}\u001B[0m\u001B[1;33m)\u001B[0m\u001B[1;33m\u001B[0m\u001B[1;33m\u001B[0m\u001B[0m\n\u001B[1;32m---> 73\u001B[1;33m         \u001B[1;32mreturn\u001B[0m \u001B[0mf\u001B[0m\u001B[1;33m(\u001B[0m\u001B[1;33m**\u001B[0m\u001B[0mkwargs\u001B[0m\u001B[1;33m)\u001B[0m\u001B[1;33m\u001B[0m\u001B[1;33m\u001B[0m\u001B[0m\n\u001B[0m\u001B[0;32m     74\u001B[0m     \u001B[1;32mreturn\u001B[0m \u001B[0minner_f\u001B[0m\u001B[1;33m\u001B[0m\u001B[1;33m\u001B[0m\u001B[0m\n\u001B[0;32m     75\u001B[0m \u001B[1;33m\u001B[0m\u001B[0m\n",
      "\u001B[1;32m~\\anaconda3\\envs\\Project-Report\\lib\\site-packages\\sklearn\\metrics\\_classification.py\u001B[0m in \u001B[0;36maccuracy_score\u001B[1;34m(y_true, y_pred, normalize, sample_weight)\u001B[0m\n\u001B[0;32m    185\u001B[0m \u001B[1;33m\u001B[0m\u001B[0m\n\u001B[0;32m    186\u001B[0m     \u001B[1;31m# Compute accuracy for each possible representation\u001B[0m\u001B[1;33m\u001B[0m\u001B[1;33m\u001B[0m\u001B[1;33m\u001B[0m\u001B[0m\n\u001B[1;32m--> 187\u001B[1;33m     \u001B[0my_type\u001B[0m\u001B[1;33m,\u001B[0m \u001B[0my_true\u001B[0m\u001B[1;33m,\u001B[0m \u001B[0my_pred\u001B[0m \u001B[1;33m=\u001B[0m \u001B[0m_check_targets\u001B[0m\u001B[1;33m(\u001B[0m\u001B[0my_true\u001B[0m\u001B[1;33m,\u001B[0m \u001B[0my_pred\u001B[0m\u001B[1;33m)\u001B[0m\u001B[1;33m\u001B[0m\u001B[1;33m\u001B[0m\u001B[0m\n\u001B[0m\u001B[0;32m    188\u001B[0m     \u001B[0mcheck_consistent_length\u001B[0m\u001B[1;33m(\u001B[0m\u001B[0my_true\u001B[0m\u001B[1;33m,\u001B[0m \u001B[0my_pred\u001B[0m\u001B[1;33m,\u001B[0m \u001B[0msample_weight\u001B[0m\u001B[1;33m)\u001B[0m\u001B[1;33m\u001B[0m\u001B[1;33m\u001B[0m\u001B[0m\n\u001B[0;32m    189\u001B[0m     \u001B[1;32mif\u001B[0m \u001B[0my_type\u001B[0m\u001B[1;33m.\u001B[0m\u001B[0mstartswith\u001B[0m\u001B[1;33m(\u001B[0m\u001B[1;34m'multilabel'\u001B[0m\u001B[1;33m)\u001B[0m\u001B[1;33m:\u001B[0m\u001B[1;33m\u001B[0m\u001B[1;33m\u001B[0m\u001B[0m\n",
      "\u001B[1;32m~\\anaconda3\\envs\\Project-Report\\lib\\site-packages\\sklearn\\metrics\\_classification.py\u001B[0m in \u001B[0;36m_check_targets\u001B[1;34m(y_true, y_pred)\u001B[0m\n\u001B[0;32m     88\u001B[0m \u001B[1;33m\u001B[0m\u001B[0m\n\u001B[0;32m     89\u001B[0m     \u001B[1;32mif\u001B[0m \u001B[0mlen\u001B[0m\u001B[1;33m(\u001B[0m\u001B[0my_type\u001B[0m\u001B[1;33m)\u001B[0m \u001B[1;33m>\u001B[0m \u001B[1;36m1\u001B[0m\u001B[1;33m:\u001B[0m\u001B[1;33m\u001B[0m\u001B[1;33m\u001B[0m\u001B[0m\n\u001B[1;32m---> 90\u001B[1;33m         raise ValueError(\"Classification metrics can't handle a mix of {0} \"\n\u001B[0m\u001B[0;32m     91\u001B[0m                          \"and {1} targets\".format(type_true, type_pred))\n\u001B[0;32m     92\u001B[0m \u001B[1;33m\u001B[0m\u001B[0m\n",
      "\u001B[1;31mValueError\u001B[0m: Classification metrics can't handle a mix of continuous and multiclass targets"
     ]
    }
   ],
   "source": [
    "from sklearn.cluster import KMeans\n",
    "from sklearn.metrics import accuracy_score\n",
    "\n",
    "# Train the model\n",
    "clf = KMeans(n_clusters=5, random_state=0).fit(X_train)\n",
    "\n",
    "# Get the centres of each cluster\n",
    "print(clf.cluster_centers_)\n",
    "\n",
    "# # Utility for k-fold cross validation\n",
    "# from sklearn.model_selection import cross_val_score\n",
    "\n",
    "# # iterate 4 times\n",
    "# scores = cross_val_score(clf, X, y, cv=4)\n",
    "\n"
   ],
   "metadata": {
    "collapsed": false,
    "pycharm": {
     "name": "#%%\n"
    },
    "tags": []
   }
  },
  {
   "cell_type": "code",
   "execution_count": null,
   "metadata": {},
   "outputs": [],
   "source": []
  }
 ],
 "metadata": {
  "kernelspec": {
   "display_name": "Python 3",
   "language": "python",
   "name": "python3"
  },
  "language_info": {
   "codemirror_mode": {
    "name": "ipython",
    "version": 2
   },
   "file_extension": ".py",
   "mimetype": "text/x-python",
   "name": "python",
   "nbconvert_exporter": "python",
   "pygments_lexer": "ipython2",
   "version": "3.8.3-final"
  }
 },
 "nbformat": 4,
 "nbformat_minor": 0
}